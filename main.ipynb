{
 "cells": [
  {
   "cell_type": "code",
   "execution_count": 122,
   "id": "8df80eee",
   "metadata": {},
   "outputs": [],
   "source": [
    "import pandas as pd\n",
    "import numpy as np\n",
    "import matplotlib.pyplot as plt\n",
    "import math"
   ]
  },
  {
   "cell_type": "code",
   "execution_count": 123,
   "id": "e2f3b4fa",
   "metadata": {},
   "outputs": [],
   "source": [
    "data = pd.read_csv(\"./train.csv\")"
   ]
  },
  {
   "cell_type": "code",
   "execution_count": 124,
   "id": "a2ece448",
   "metadata": {},
   "outputs": [
    {
     "name": "stdout",
     "output_type": "stream",
     "text": [
      "42000\n"
     ]
    }
   ],
   "source": [
    "print(len(data))"
   ]
  },
  {
   "cell_type": "code",
   "execution_count": 125,
   "id": "1318324f",
   "metadata": {},
   "outputs": [
    {
     "data": {
      "text/plain": [
       "(8816, 785)"
      ]
     },
     "execution_count": 125,
     "metadata": {},
     "output_type": "execute_result"
    }
   ],
   "source": [
    "data_1_0 = [] \n",
    "for i in range(len(data)):\n",
    "    if data[\"label\"].loc[i] == 1 or data[\"label\"].loc[i] == 0:\n",
    "        data_1_0.append(data.loc[i])\n",
    "\n",
    "data_1_0 = np.array(data_1_0)\n",
    "data_1_0.shape"
   ]
  },
  {
   "cell_type": "code",
   "execution_count": 126,
   "id": "995a2302",
   "metadata": {},
   "outputs": [
    {
     "data": {
      "text/plain": [
       "(8816, 784)"
      ]
     },
     "execution_count": 126,
     "metadata": {},
     "output_type": "execute_result"
    }
   ],
   "source": [
    "m,n = data_1_0.shape\n",
    "np.random.shuffle(data_1_0)\n",
    "y_train = data_1_0[:,0]\n",
    "x_train = data_1_0[:, 1:]\n",
    "\n",
    "x_train.shape"
   ]
  },
  {
   "cell_type": "code",
   "execution_count": 127,
   "id": "e3a8c18d",
   "metadata": {},
   "outputs": [],
   "source": [
    "def g(z):\n",
    "    return 1/(1+np.exp(-z))\n",
    "\n",
    "def cost(x, y, w, b):\n",
    "    m, n = x.shape\n",
    "    total_cost = 0\n",
    "    for i in range(m):\n",
    "        z = np.dot(x[i], w) + b\n",
    "        f_wb_i = g(z)\n",
    "        total_cost += -y[i] * np.log(f_wb_i + 1e-7) - (1 - y[i]) * np.log(1 - f_wb_i + 1e-7)\n",
    "    return total_cost / m   \n",
    "\n",
    "\n",
    "def dif_w_b(w,x,y,b):\n",
    "    m,n = x.shape\n",
    "    dj_dw = np.zeros(n)\n",
    "    dj_db = 0\n",
    "    for i in range(m):\n",
    "        f_wb_i = g(np.matmul(x[i],w)+b)\n",
    "        err_i = f_wb_i-y[i]\n",
    "        for j in range(n):\n",
    "            dj_dw[j] = dj_dw[j] + err_i * x[i,j]\n",
    "        dj_db += err_i\n",
    "    dj_dw/=m\n",
    "    dj_db/=m\n",
    "    return dj_db,dj_dw\n",
    "\n",
    "def gradient_descent(x,y,w,b,alpha,iters):\n",
    "    history =[]\n",
    "    for i in range(iters):\n",
    "\n",
    "        dj_db, dj_dw = dif_w_b(w, x, y, b)\n",
    "        w = w - alpha * dj_dw\n",
    "        b = b - alpha * dj_db\n",
    "        if i<100000 and i != 0:\n",
    "            history.append( cost(x, y, w, b) )\n",
    "\n",
    "        if i% math.ceil(iters / 10) == 0 and i != 0:\n",
    "            print(f\"Iteration {i:4d}: Cost {history[-1]}   \")\n",
    "    return w,b,history \n"
   ]
  },
  {
   "cell_type": "code",
   "execution_count": 141,
   "id": "0cd94697",
   "metadata": {},
   "outputs": [
    {
     "name": "stdout",
     "output_type": "stream",
     "text": [
      "Iteration   50: Cost 0.045731465009392444   \n",
      "Iteration  100: Cost 0.02779364713475859   \n",
      "Iteration  150: Cost 0.021005031786729002   \n",
      "Iteration  200: Cost 0.017326472274536667   \n",
      "Iteration  250: Cost 0.014979106874857807   \n",
      "Iteration  300: Cost 0.013332445021552529   \n",
      "Iteration  350: Cost 0.012103513797890196   \n",
      "Iteration  400: Cost 0.011145372613474286   \n",
      "Iteration  450: Cost 0.010373692961750842   \n"
     ]
    }
   ],
   "source": [
    "alpha = 0.000001\n",
    "inter =500\n",
    "w_tmp  = np.zeros_like(x_train[0])\n",
    "b_tmp  = 0.\n",
    "w_out, b_out, history = gradient_descent(x_train,y_train,w_tmp,b_tmp,alpha,inter)"
   ]
  },
  {
   "cell_type": "code",
   "execution_count": 142,
   "id": "253eea2c",
   "metadata": {},
   "outputs": [
    {
     "data": {
      "text/plain": [
       "0.009748073966791568"
      ]
     },
     "execution_count": 142,
     "metadata": {},
     "output_type": "execute_result"
    }
   ],
   "source": [
    "history[-1]"
   ]
  },
  {
   "cell_type": "code",
   "execution_count": 143,
   "id": "9acfe580",
   "metadata": {},
   "outputs": [
    {
     "data": {
      "text/plain": [
       "<function matplotlib.pyplot.show(close=None, block=None)>"
      ]
     },
     "execution_count": 143,
     "metadata": {},
     "output_type": "execute_result"
    },
    {
     "data": {
      "image/png": "[encoded data removed]",
      "text/plain": [
       "<Figure size 640x480 with 1 Axes>"
      ]
     },
     "metadata": {},
     "output_type": "display_data"
    }
   ],
   "source": [
    "plt.plot(history)\n",
    "plt.show"
   ]
  },
  {
   "cell_type": "code",
   "execution_count": 144,
   "id": "d98cc4b5",
   "metadata": {},
   "outputs": [],
   "source": [
    "with open(\"w.txt\", \"w\") as f:\n",
    "    for i in range(len(w_out)):\n",
    "        f.write(str(w_out[i]))\n",
    "        f.write(\" \")"
   ]
  },
  {
   "cell_type": "code",
   "execution_count": 146,
   "id": "0c8e6fa3",
   "metadata": {},
   "outputs": [],
   "source": [
    "with open(\"b.txt\", \"w\") as f:\n",
    "    f.write(str(b_out))"
   ]
  },
  {
   "cell_type": "code",
   "execution_count": 147,
   "id": "8c07e70b",
   "metadata": {},
   "outputs": [],
   "source": [
    "def check(z):\n",
    "    return 1 if g(z) >= 0.5 else 0"
   ]
  },
  {
   "cell_type": "code",
   "execution_count": 148,
   "id": "13433509",
   "metadata": {},
   "outputs": [],
   "source": [
    "with open('w.txt', 'r') as file:\n",
    "    content_w = file.read()\n",
    "with open('b.txt', 'r') as file:\n",
    "    content_b = file.read()\n",
    "w = [float(x) for x in content_w.split()]\n",
    "b = float(content_b.split()[0])\n",
    "w  = np.array([w])"
   ]
  },
  {
   "cell_type": "code",
   "execution_count": 149,
   "id": "00dac93e",
   "metadata": {},
   "outputs": [
    {
     "name": "stdout",
     "output_type": "stream",
     "text": [
      "Accuracy = 0.9981\n"
     ]
    }
   ],
   "source": [
    "correct = 0\n",
    "m = x_train.shape[0]\n",
    "x1 = 0\n",
    "x0 = 0\n",
    "for i in range(m):\n",
    "    z = np.dot(w_out, x_train[i]) + b_out\n",
    "    label = check(z)\n",
    "    if label == y_train[i]:\n",
    "        correct += 1\n",
    "accuracy = correct / m\n",
    "print(f\"Accuracy = {accuracy:.4f}\")"
   ]
  },
  {
   "cell_type": "code",
   "execution_count": null,
   "id": "4e5aa003",
   "metadata": {},
   "outputs": [],
   "source": []
  }
 ],
 "metadata": {
  "kernelspec": {
   "display_name": "FOR_ML",
   "language": "python",
   "name": "python3"
  },
  "language_info": {
   "codemirror_mode": {
    "name": "ipython",
    "version": 3
   },
   "file_extension": ".py",
   "mimetype": "text/x-python",
   "name": "python",
   "nbconvert_exporter": "python",
   "pygments_lexer": "ipython3",
   "version": "3.9.18"
  }
 },
 "nbformat": 4,
 "nbformat_minor": 5
}
